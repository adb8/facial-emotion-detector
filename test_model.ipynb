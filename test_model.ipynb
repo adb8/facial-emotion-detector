{
 "cells": [
  {
   "cell_type": "code",
   "execution_count": null,
   "metadata": {},
   "outputs": [],
   "source": [
    "import numpy as np\n",
    "import pandas as pd\n",
    "import tensorflow as tf\n",
    "import os\n",
    "import cv2\n",
    "import matplotlib.pyplot as plt\n",
    "from tensorflow.keras.layers import (\n",
    "    Conv2D,\n",
    "    MaxPooling2D,\n",
    "    Flatten,\n",
    "    Dense,\n",
    "    Dropout,\n",
    "    BatchNormalization,\n",
    "    Activation,\n",
    "    GlobalAveragePooling2D,\n",
    "    Input,\n",
    "    Add,\n",
    ")\n",
    "from tensorflow.keras.models import Model, Sequential, load_model\n",
    "from tensorflow.keras.optimizers import Adam\n",
    "from tensorflow.keras.regularizers import l2\n",
    "from tensorflow.keras.callbacks import ModelCheckpoint, EarlyStopping, ReduceLROnPlateau\n",
    "from sklearn.model_selection import train_test_split\n",
    "import kagglehub\n",
    "from datetime import datetime\n",
    "from keras.preprocessing import image"
   ]
  },
  {
   "cell_type": "code",
   "execution_count": null,
   "metadata": {},
   "outputs": [
    {
     "name": "stdout",
     "output_type": "stream",
     "text": [
      "\u001b[1m1/1\u001b[0m \u001b[32m━━━━━━━━━━━━━━━━━━━━\u001b[0m\u001b[37m\u001b[0m \u001b[1m0s\u001b[0m 66ms/step\n",
      "Predicted class: happy\n"
     ]
    },
    {
     "data": {
      "text/plain": [
       "Text(0.5, 1.0, 'Predicted class: happy')"
      ]
     },
     "execution_count": 27,
     "metadata": {},
     "output_type": "execute_result"
    },
    {
     "data": {
      "image/png": "[encoded data removed]",
      "text/plain": [
       "<Figure size 640x480 with 1 Axes>"
      ]
     },
     "metadata": {},
     "output_type": "display_data"
    }
   ],
   "source": [
    "cam_port = 0\n",
    "cam = cv2.VideoCapture(cam_port)\n",
    "result, image = cam.read()\n",
    "cam.release()\n",
    "cv2.destroyAllWindows()\n",
    "dataset_path = os.path.join(os.getcwd(), \"CK+48\")\n",
    "labels = os.listdir(dataset_path)\n",
    "checkpoint_path = \"models/model_checkpoint.keras\"\n",
    "model = load_model(checkpoint_path)\n",
    "model.compile(optimizer=\"adam\", loss=[\"categorical_crossentropy\"], metrics=[\"accuracy\"])\n",
    "\n",
    "image = cv2.resize(image, (48, 48))\n",
    "image = cv2.cvtColor(image, cv2.COLOR_BGR2GRAY)\n",
    "images = [image]\n",
    "images_x = np.array(images)\n",
    "images_x = images_x / 255\n",
    "\n",
    "result = model.predict(images_x)\n",
    "predicted_class_index = np.argmax(result)\n",
    "predicted_label = labels[predicted_class_index]\n",
    "print(f\"Predicted class: {predicted_label}\")\n",
    "plt.imshow(image.squeeze(), cmap=\"gray\")\n",
    "plt.title(f\"Predicted class: {predicted_label}\")"
   ]
  },
  {
   "cell_type": "code",
   "execution_count": 22,
   "metadata": {},
   "outputs": [],
   "source": [
    "cam_port = 0\n",
    "count = 0\n",
    "desired_fps = 30 \n",
    "font = cv2.FONT_HERSHEY_SIMPLEX\n",
    "bottomLeftCornerOfText = (10, 20)\n",
    "fontScale = 0.5\n",
    "fontColor = (0, 0, 255)\n",
    "thickness = 1\n",
    "lineType = 2\n",
    "\n",
    "dataset_path = os.path.join(os.getcwd(), \"CK+48\")\n",
    "labels = os.listdir(dataset_path)\n",
    "checkpoint_path = \"models/model_checkpoint.keras\"\n",
    "model = load_model(checkpoint_path)\n",
    "model.compile(optimizer=\"adam\", loss=[\"categorical_crossentropy\"], metrics=[\"accuracy\"])\n",
    "prediction_text = \"Predicted class: \""
   ]
  },
  {
   "cell_type": "code",
   "execution_count": null,
   "metadata": {},
   "outputs": [],
   "source": [
    "cap = cv2.VideoCapture(cam_port)\n",
    "cap.set(cv2.CAP_PROP_FPS, desired_fps)\n",
    "actual_fps = cap.get(cv2.CAP_PROP_FPS)\n",
    "print(f\"Actual FPS: {actual_fps}\")\n",
    "\n",
    "while cap.isOpened():\n",
    "    ret, frame = cap.read()\n",
    "    if ret:\n",
    "        count += 1\n",
    "        if (count % desired_fps) == 0:\n",
    "            image = cv2.resize(frame, (48, 48))\n",
    "            image = cv2.cvtColor(image, cv2.COLOR_BGR2GRAY)\n",
    "            images = [image]\n",
    "            images_x = np.array(images)\n",
    "            images_x = images_x / 255\n",
    "            result = model.predict(images_x)\n",
    "            predicted_class_index = np.argmax(result)\n",
    "            predicted_label = labels[predicted_class_index]\n",
    "            prediction_text = f\"Predicted class: {predicted_label}\"\n",
    "            print(f\"Predicted class: {predicted_label}\")\n",
    "        cap.set(cv2.CAP_PROP_POS_FRAMES, count)\n",
    "        cv2.putText(frame, prediction_text, \n",
    "            bottomLeftCornerOfText, font, fontScale, fontColor, thickness, lineType)\n",
    "        cv2.imshow('Captured Image', frame)\n",
    "        if cv2.waitKey(1) & 0xFF == ord('q') or cv2.getWindowProperty('Captured Image', cv2.WND_PROP_VISIBLE) < 1:\n",
    "            cap.release()\n",
    "            cv2.destroyAllWindows()\n",
    "            break\n",
    "    else:\n",
    "        cap.release()\n",
    "        cv2.destroyAllWindows()\n",
    "        break"
   ]
  }
 ],
 "metadata": {
  "kernelspec": {
   "display_name": "facial-emotion-detector-vol70EzT",
   "language": "python",
   "name": "python3"
  },
  "language_info": {
   "codemirror_mode": {
    "name": "ipython",
    "version": 3
   },
   "file_extension": ".py",
   "mimetype": "text/x-python",
   "name": "python",
   "nbconvert_exporter": "python",
   "pygments_lexer": "ipython3",
   "version": "3.12.1"
  }
 },
 "nbformat": 4,
 "nbformat_minor": 2
}
